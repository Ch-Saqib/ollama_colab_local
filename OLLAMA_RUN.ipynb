{
 "cells": [
  {
   "cell_type": "code",
   "execution_count": null,
   "metadata": {},
   "outputs": [],
   "source": [
    "# Download and run the Ollama Linux install script\n",
    "!curl -fsSL https://ollama.com/install.sh | sh"
   ]
  },
  {
   "cell_type": "code",
   "execution_count": null,
   "metadata": {},
   "outputs": [],
   "source": [
    "# Get Ngrok authentication token from Colab secrets environment\n",
    "from google.colab import userdata\n",
    "NGROK_AUTH_TOKEN = userdata.get('NGROK_AUTH_TOKEN')"
   ]
  },
  {
   "cell_type": "code",
   "execution_count": null,
   "metadata": {},
   "outputs": [],
   "source": [
    "# Install necessary packages: aiohttp for async subprocess execution and pyngrok for Ngrok integration\n",
    "!pip install aiohttp pyngrok\n",
    "\n",
    "import asyncio\n",
    "import os\n",
    "\n",
    "# Set LD_LIBRARY_PATH to prioritize system NVIDIA libraries over built-in ones\n",
    "os.environ.update({'LD_LIBRARY_PATH': '/usr/lib64-nvidia'})\n",
    "\n",
    "# Define an async helper function to run commands asynchronously\n",
    "async def run(cmd):\n",
    "    print('>>> starting', *cmd)\n",
    "    p = await asyncio.subprocess.create_subprocess_exec(\n",
    "        *cmd,\n",
    "        stdout=asyncio.subprocess.PIPE,\n",
    "        stderr=asyncio.subprocess.PIPE\n",
    "    )\n",
    "\n",
    "    # Asynchronously process and print the output and error streams\n",
    "    async def pipe(lines):\n",
    "        async for line in lines:\n",
    "            print(line.strip().decode('utf-8'))\n",
    "\n",
    "    await asyncio.gather(\n",
    "        pipe(p.stdout),\n",
    "        pipe(p.stderr),\n",
    "    )\n",
    "\n",
    "# Authenticate with Ngrok using the token\n",
    "await run(['ngrok', 'config', 'add-authtoken', NGROK_AUTH_TOKEN])"
   ]
  },
  {
   "cell_type": "code",
   "execution_count": null,
   "metadata": {},
   "outputs": [],
   "source": [
    "# Run multiple tasks concurrently:\n",
    "# 1. Start the Ollama server.\n",
    "# 2. Start Ngrok to forward HTTP traffic from the local Ollama API running on localhost:11434.\n",
    "await asyncio.gather(\n",
    "    run(['ollama', 'serve']),\n",
    "    run(['ngrok', 'http', '--log', 'stderr', '11434', '--host-header', 'localhost:11434']),\n",
    "    # Uncomment the next line and replace with your Ngrok domain if using a static URL\n",
    "    # run(['ngrok', 'http', '--log', 'stderr', '11434', '--host-header', 'localhost:11434', '--domain', 'insert-your-static-ngrok-domain-here']),\n",
    ")"
   ]
  }
 ],
 "metadata": {
  "language_info": {
   "name": "python"
  }
 },
 "nbformat": 4,
 "nbformat_minor": 2
}
